{
 "cells": [
  {
   "cell_type": "code",
   "execution_count": 1,
   "id": "4860b12f",
   "metadata": {
    "_cell_guid": "b1076dfc-b9ad-4769-8c92-a6c4dae69d19",
    "_uuid": "8f2839f25d086af736a60e9eeb907d3b93b6e0e5",
    "papermill": {
     "duration": 0.946318,
     "end_time": "2024-04-04T07:23:14.071113",
     "exception": false,
     "start_time": "2024-04-04T07:23:13.124795",
     "status": "completed"
    },
    "tags": []
   },
   "outputs": [],
   "source": [
    "# This Python 3 environment comes with many helpful analytics libraries installed\n",
    "# It is defined by the kaggle/python Docker image: https://github.com/kaggle/docker-python\n",
    "# For example, here's several helpful packages to load\n",
    "\n",
    "import numpy as np # linear algebra\n",
    "import pandas as pd # data processing, CSV file I/O (e.g. pd.read_csv)\n",
    "\n",
    "# Input data files are available in the read-only \"../input/\" directory\n",
    "# For example, running this (by clicking run or pressing Shift+Enter) will list all files under the input directory\n",
    "\n",
    "import os\n",
    "for dirname, _, filenames in os.walk('/kaggle/input'):\n",
    "    for filename in filenames:\n",
    "        print(os.path.join(dirname, filename))\n",
    "\n",
    "# You can write up to 20GB to the current directory (/kaggle/working/) that gets preserved as output when you create a version using \"Save & Run All\" \n",
    "# You can also write temporary files to /kaggle/temp/, but they won't be saved outside of the current session"
   ]
  },
  {
   "cell_type": "markdown",
   "id": "29b3edf0",
   "metadata": {
    "papermill": {
     "duration": 0.003536,
     "end_time": "2024-04-04T07:23:14.079745",
     "exception": false,
     "start_time": "2024-04-04T07:23:14.076209",
     "status": "completed"
    },
    "tags": []
   },
   "source": [
    "**Import Libs**"
   ]
  },
  {
   "cell_type": "code",
   "execution_count": 2,
   "id": "bda4207e",
   "metadata": {
    "papermill": {
     "duration": 1.89396,
     "end_time": "2024-04-04T07:23:15.977478",
     "exception": false,
     "start_time": "2024-04-04T07:23:14.083518",
     "status": "completed"
    },
    "tags": []
   },
   "outputs": [],
   "source": [
    "import pandas as pd\n",
    "from sklearn.model_selection import cross_val_predict, StratifiedKFold\n",
    "from sklearn.preprocessing import StandardScaler\n",
    "from sklearn.ensemble import RandomForestClassifier\n",
    "from sklearn.metrics import average_precision_score\n",
    "from imblearn.over_sampling import SMOTE\n",
    "from imblearn.pipeline import Pipeline as IMBPipeline"
   ]
  },
  {
   "cell_type": "markdown",
   "id": "35d46ab7",
   "metadata": {
    "papermill": {
     "duration": 0.003465,
     "end_time": "2024-04-04T07:23:15.984909",
     "exception": false,
     "start_time": "2024-04-04T07:23:15.981444",
     "status": "completed"
    },
    "tags": []
   },
   "source": [
    "**2. Load And Explore Data**"
   ]
  },
  {
   "cell_type": "code",
   "execution_count": 3,
   "id": "633be87b",
   "metadata": {
    "papermill": {
     "duration": 0.045782,
     "end_time": "2024-04-04T07:23:16.034482",
     "exception": false,
     "start_time": "2024-04-04T07:23:15.988700",
     "status": "completed"
    },
    "tags": []
   },
   "outputs": [],
   "source": [
    "da1 = pd.read_csv(r\"C:\\Users\\smdsu\\Downloads\\oil_spill (1).csv\")\n",
    "\n",
    "X = da1.drop('target', axis = 1)\n",
    "y = da1['target']"
   ]
  },
  {
   "cell_type": "markdown",
   "id": "bee3fe24",
   "metadata": {
    "papermill": {
     "duration": 0.003476,
     "end_time": "2024-04-04T07:23:16.041787",
     "exception": false,
     "start_time": "2024-04-04T07:23:16.038311",
     "status": "completed"
    },
    "tags": []
   },
   "source": [
    "**Split Data**"
   ]
  },
  {
   "cell_type": "code",
   "execution_count": 4,
   "id": "b64cc32d",
   "metadata": {
    "papermill": {
     "duration": 0.012268,
     "end_time": "2024-04-04T07:23:16.057728",
     "exception": false,
     "start_time": "2024-04-04T07:23:16.045460",
     "status": "completed"
    },
    "tags": []
   },
   "outputs": [],
   "source": [
    "##X_train, X_test, y_train, y_test = train_test_split(X, y, test_size = 0.2, random_state = 42, stratify = y)\n",
    "\n",
    "X.reset_index(drop=True, inplace=True)\n",
    "y.reset_index(drop=True, inplace=True)"
   ]
  },
  {
   "cell_type": "markdown",
   "id": "b57a10f6",
   "metadata": {
    "papermill": {
     "duration": 0.003382,
     "end_time": "2024-04-04T07:23:16.064873",
     "exception": false,
     "start_time": "2024-04-04T07:23:16.061491",
     "status": "completed"
    },
    "tags": []
   },
   "source": [
    "**3. Define Model**"
   ]
  },
  {
   "cell_type": "code",
   "execution_count": 5,
   "id": "a83f15b0",
   "metadata": {
    "papermill": {
     "duration": 0.012799,
     "end_time": "2024-04-04T07:23:16.081383",
     "exception": false,
     "start_time": "2024-04-04T07:23:16.068584",
     "status": "completed"
    },
    "tags": []
   },
   "outputs": [],
   "source": [
    "## We're going to use RandomForestClass as our model and SMOTE For Imbalanced Classific to oversample the minority cl\n",
    "## Also we'll do feature scale using StandardScaler\n",
    "\n",
    "pipeline = IMBPipeline(steps=[\n",
    "    ('oversample', SMOTE(random_state=42)),       # Oversampling\n",
    "    ('scaler', StandardScaler()),                 # Feature Scaling\n",
    "    ('classifier', RandomForestClassifier(random_state=42))  # Classifier\n",
    "])\n"
   ]
  },
  {
   "cell_type": "markdown",
   "id": "5cc55703",
   "metadata": {
    "papermill": {
     "duration": 0.003447,
     "end_time": "2024-04-04T07:23:16.088577",
     "exception": false,
     "start_time": "2024-04-04T07:23:16.085130",
     "status": "completed"
    },
    "tags": []
   },
   "source": [
    "**4. Importing Libraries and Evaluating using Cross-Validation Predition method**"
   ]
  },
  {
   "cell_type": "code",
   "execution_count": 6,
   "id": "100e9398-845d-48a9-9c44-a8cfcd186865",
   "metadata": {},
   "outputs": [
    {
     "name": "stdout",
     "output_type": "stream",
     "text": [
      "Import successful.\n",
      "StratifiedKFold initialized.\n",
      "Precision-Recall AUC: 0.9935\n"
     ]
    }
   ],
   "source": [
    "from sklearn.model_selection import StratifiedKFold, cross_validate\n",
    "from sklearn.metrics import average_precision_score\n",
    "from sklearn.ensemble import RandomForestClassifier\n",
    "from sklearn.preprocessing import StandardScaler, PolynomialFeatures\n",
    "from imblearn.over_sampling import SMOTE\n",
    "from imblearn.pipeline import Pipeline as ImbPipeline\n",
    "from sklearn.compose import ColumnTransformer\n",
    "from sklearn.decomposition import PCA\n",
    "import numpy as np\n",
    "\n",
    "print(\"Import successful.\")\n",
    "\n",
    "# StratifiedKFold to ensure each fold is representative of the overall class distribution\n",
    "cv = StratifiedKFold(n_splits=3, shuffle=True, random_state=42)\n",
    "print(\"StratifiedKFold initialized.\")\n",
    "\n",
    "# Define the preprocessing steps\n",
    "preprocessor = ColumnTransformer(\n",
    "    transformers=[\n",
    "        ('poly', PolynomialFeatures(degree=2), slice(0, X.shape[1])), # Apply Polynomial Features to all columns\n",
    "        ('pca', PCA(n_components=5), slice(0, X.shape[1]))            # Add PCA to reduce dimensionality\n",
    "    ],\n",
    "    remainder='passthrough'\n",
    ")\n",
    "\n",
    "# Define RandomForest model\n",
    "model = RandomForestClassifier(n_estimators=100, max_depth=10, random_state=42)\n",
    "\n",
    "# Define the pipeline with SMOTE, StandardScaler, and RandomForest\n",
    "pipeline = ImbPipeline(steps=[\n",
    "    ('smote', SMOTE(random_state=42)),  # Handle imbalanced data\n",
    "    ('preprocessor', preprocessor),     # Advanced feature engineering with PCA and PolynomialFeatures\n",
    "    ('scaler', StandardScaler()),       # Scaling features\n",
    "    ('model', model)                    # Use RandomForestClassifier\n",
    "])\n",
    "\n",
    "# Cross-validated predictions\n",
    "results = cross_validate(pipeline, X, y, cv=cv, scoring='average_precision', return_estimator=True)\n",
    "\n",
    "# Aggregate predictions\n",
    "y_pred_prob = np.zeros(len(y))\n",
    "for est in results['estimator']:\n",
    "    y_pred_prob += est.predict_proba(X)[:, 1]\n",
    "y_pred_prob /= len(results['estimator'])\n",
    "\n",
    "# Calculate Precision-Recall AUC\n",
    "pr_auc = average_precision_score(y, y_pred_prob)\n",
    "print(f'Precision-Recall AUC: {pr_auc:.4f}')\n"
   ]
  },
  {
   "cell_type": "markdown",
   "id": "4afc976b-0d26-4a9c-956e-41a89fe61464",
   "metadata": {},
   "source": [
    "**5. Evaluating Accuracy**"
   ]
  },
  {
   "cell_type": "code",
   "execution_count": 7,
   "id": "5dc8ffcb-59fa-4857-a4fe-c981713eb187",
   "metadata": {},
   "outputs": [
    {
     "name": "stdout",
     "output_type": "stream",
     "text": [
      "Precision: 1.0000\n",
      "Accuracy: 0.8000\n"
     ]
    }
   ],
   "source": [
    "from sklearn.metrics import precision_score, accuracy_score\n",
    "import numpy as np\n",
    "\n",
    "# Let's assume you have the true labels and predicted labels\n",
    "y_true = np.array([1, 0, 1, 1, 0, 1, 0, 0, 1, 1])  # True labels\n",
    "y_pred = np.array([1, 0, 1, 0, 0, 1, 0, 0, 1, 0])  # Predicted labels\n",
    "\n",
    "# Calculate precision\n",
    "precision = precision_score(y_true, y_pred)\n",
    "print(f'Precision: {precision:.4f}')\n",
    "\n",
    "# Calculate accuracy\n",
    "accuracy = accuracy_score(y_true, y_pred)\n",
    "print(f'Accuracy: {accuracy:.4f}')\n"
   ]
  }
 ],
 "metadata": {
  "kaggle": {
   "accelerator": "none",
   "dataSources": [
    {
     "datasetId": 2628764,
     "sourceId": 4494999,
     "sourceType": "datasetVersion"
    }
   ],
   "dockerImageVersionId": 30673,
   "isGpuEnabled": false,
   "isInternetEnabled": true,
   "language": "python",
   "sourceType": "notebook"
  },
  "kernelspec": {
   "display_name": "Python 3 (ipykernel)",
   "language": "python",
   "name": "python3"
  },
  "language_info": {
   "codemirror_mode": {
    "name": "ipython",
    "version": 3
   },
   "file_extension": ".py",
   "mimetype": "text/x-python",
   "name": "python",
   "nbconvert_exporter": "python",
   "pygments_lexer": "ipython3",
   "version": "3.12.4"
  },
  "papermill": {
   "default_parameters": {},
   "duration": 12.085329,
   "end_time": "2024-04-04T07:23:22.380817",
   "environment_variables": {},
   "exception": null,
   "input_path": "__notebook__.ipynb",
   "output_path": "__notebook__.ipynb",
   "parameters": {},
   "start_time": "2024-04-04T07:23:10.295488",
   "version": "2.5.0"
  }
 },
 "nbformat": 4,
 "nbformat_minor": 5
}
